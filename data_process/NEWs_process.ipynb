{
 "cells": [
  {
   "cell_type": "markdown",
   "metadata": {},
   "source": [
    "## **1. 新闻发布时间滞后分析** ##"
   ]
  },
  {
   "cell_type": "code",
   "execution_count": 1,
   "metadata": {},
   "outputs": [
    {
     "name": "stderr",
     "output_type": "stream",
     "text": [
      "d:\\Anaconda\\lib\\site-packages\\pandas\\core\\arrays\\masked.py:60: UserWarning: Pandas requires version '1.3.6' or newer of 'bottleneck' (version '1.3.5' currently installed).\n",
      "  from pandas.core import (\n"
     ]
    }
   ],
   "source": [
    "import pandas as pd"
   ]
  },
  {
   "cell_type": "code",
   "execution_count": 32,
   "metadata": {},
   "outputs": [
    {
     "name": "stderr",
     "output_type": "stream",
     "text": [
      "d:\\Anaconda\\lib\\site-packages\\openpyxl\\styles\\stylesheet.py:237: UserWarning: Workbook contains no default style, apply openpyxl's default\n",
      "  warn(\"Workbook contains no default style, apply openpyxl's default\")\n"
     ]
    }
   ],
   "source": [
    "data = pd.read_excel('E:/厦门大学/论文合作/大模型+新闻情绪/test_data.xlsx')"
   ]
  },
  {
   "cell_type": "code",
   "execution_count": 33,
   "metadata": {},
   "outputs": [],
   "source": [
    "\n",
    "data = data.drop([0, 1], axis=0)"
   ]
  },
  {
   "cell_type": "code",
   "execution_count": 34,
   "metadata": {},
   "outputs": [],
   "source": [
    "data['text_length'] = data['NewsContent'].apply(lambda x: len(str(x)))"
   ]
  },
  {
   "cell_type": "code",
   "execution_count": 35,
   "metadata": {},
   "outputs": [],
   "source": [
    "import re\n",
    "from datetime import datetime\n",
    "def extract_date(text):\n",
    "    # 正则表达式确保同时有“月”和“日”部分\n",
    "    match = re.search(r'(\\d{1,2})月(\\d{1,2})日', str(text))\n",
    "    if match:\n",
    "        month = int(match.group(1))\n",
    "        day = int(match.group(2))\n",
    "        # 默认为2024年\n",
    "        date_str = f'2024-{month:02d}-{day:02d}'\n",
    "        try:\n",
    "            date_obj = datetime.strptime(date_str, '%Y-%m-%d')\n",
    "            return date_obj\n",
    "        except ValueError:\n",
    "            return None\n",
    "    return None\n",
    "\n",
    "data['news_data'] = data['NewsContent'].apply(extract_date)"
   ]
  },
  {
   "cell_type": "code",
   "execution_count": 36,
   "metadata": {},
   "outputs": [],
   "source": [
    "def convert_declare_date(declare_date):\n",
    "    try:\n",
    "        declare_obj = datetime.strptime(str(declare_date), '%Y-%m-%d %H:%M:%S')\n",
    "        return declare_obj\n",
    "    except Exception as e:\n",
    "        return None\n",
    "\n",
    "data['declare_data'] = data['FullDeclareDate'].apply(convert_declare_date)"
   ]
  },
  {
   "cell_type": "code",
   "execution_count": 37,
   "metadata": {},
   "outputs": [],
   "source": [
    "def calculate_gap_day(row):\n",
    "    if pd.notna(row['news_data']) and pd.notna(row['declare_data']):\n",
    "        return (row['news_data'] - row['declare_data']).days\n",
    "    elif pd.isna(row['news_data']) and pd.notna(row['declare_data']):\n",
    "        return None\n",
    "    return None\n",
    "data['gap_day'] = data.apply(calculate_gap_day, axis=1)"
   ]
  },
  {
   "cell_type": "code",
   "execution_count": 49,
   "metadata": {},
   "outputs": [],
   "source": [
    "def handle_missing_news_data(row):\n",
    "    if pd.isna(row['news_data']):\n",
    "        text = str(row['NewsContent'])\n",
    "        if '昨天' in text or '昨日' in text:\n",
    "            return -1\n",
    "        elif '前日' in text or '前天' in text:\n",
    "            return -2\n",
    "        elif '近日' in text:\n",
    "            return -1\n",
    "    return None\n",
    "data['gap_day'] = data.apply(lambda row: handle_missing_news_data(row) if pd.isna(row['gap_day']) else row['gap_day'], axis=1)"
   ]
  },
  {
   "cell_type": "code",
   "execution_count": 50,
   "metadata": {},
   "outputs": [
    {
     "name": "stdout",
     "output_type": "stream",
     "text": [
      "          Count  Frequency\n",
      "gap_day                   \n",
      "-6.0       1777   0.007114\n",
      "-5.0       2616   0.010473\n",
      "-4.0       5850   0.023421\n",
      "-3.0       8703   0.034843\n",
      "-2.0      39253   0.157153\n",
      "-1.0     183100   0.733060\n",
      " 0.0       4641   0.018581\n",
      " 1.0       1901   0.007611\n",
      " 2.0        511   0.002046\n",
      " 3.0        305   0.001221\n",
      " 4.0        270   0.001081\n",
      " 5.0        232   0.000929\n",
      " 6.0        230   0.000921\n",
      " 7.0        170   0.000681\n",
      " 8.0        108   0.000432\n",
      " 9.0        108   0.000432\n"
     ]
    }
   ],
   "source": [
    "# 仅筛选gap_day列中值在-2到10之间的行\n",
    "filtered_data = data[(data['gap_day'] >= -6) & (data['gap_day'] <= 9)]\n",
    "\n",
    "# 统计gap_day列的出现次数\n",
    "gap_day_counts = filtered_data['gap_day'].value_counts().sort_index()\n",
    "\n",
    "# 计算每个取值的频率\n",
    "gap_day_freq = gap_day_counts / len(filtered_data)\n",
    "\n",
    "# 显示统计结果\n",
    "result = pd.DataFrame({\n",
    "    'Count': gap_day_counts,\n",
    "    'Frequency': gap_day_freq\n",
    "})\n",
    "\n",
    "print(result)\n"
   ]
  },
  {
   "cell_type": "code",
   "execution_count": 27,
   "metadata": {},
   "outputs": [],
   "source": [
    "import matplotlib.pyplot as plt\n",
    "import scienceplots\n",
    "plt.style.use(['science','no-latex'])"
   ]
  },
  {
   "cell_type": "code",
   "execution_count": 28,
   "metadata": {},
   "outputs": [
    {
     "name": "stderr",
     "output_type": "stream",
     "text": [
      "Locator attempting to generate 2563 ticks ([-369.2, ..., 143.19999999999817]), which exceeds Locator.MAXTICKS (1000).\n",
      "Locator attempting to generate 2563 ticks ([-369.2, ..., 143.19999999999817]), which exceeds Locator.MAXTICKS (1000).\n",
      "Locator attempting to generate 2563 ticks ([-369.2, ..., 143.19999999999817]), which exceeds Locator.MAXTICKS (1000).\n",
      "Locator attempting to generate 2563 ticks ([-369.2, ..., 143.19999999999817]), which exceeds Locator.MAXTICKS (1000).\n",
      "Locator attempting to generate 2563 ticks ([-369.2, ..., 143.19999999999817]), which exceeds Locator.MAXTICKS (1000).\n",
      "Locator attempting to generate 2563 ticks ([-369.2, ..., 143.19999999999817]), which exceeds Locator.MAXTICKS (1000).\n",
      "Locator attempting to generate 2563 ticks ([-369.2, ..., 143.19999999999817]), which exceeds Locator.MAXTICKS (1000).\n",
      "Locator attempting to generate 2563 ticks ([-369.2, ..., 143.19999999999817]), which exceeds Locator.MAXTICKS (1000).\n",
      "Locator attempting to generate 2563 ticks ([-369.2, ..., 143.19999999999817]), which exceeds Locator.MAXTICKS (1000).\n",
      "Locator attempting to generate 2563 ticks ([-369.2, ..., 143.19999999999817]), which exceeds Locator.MAXTICKS (1000).\n"
     ]
    },
    {
     "data": {
      "image/png": "[encoded data removed]",
      "text/plain": [
       "<Figure size 1000x600 with 1 Axes>"
      ]
     },
     "metadata": {},
     "output_type": "display_data"
    }
   ],
   "source": [
    "# 绘制gap_day的直方图\n",
    "plt.figure(figsize=(10, 6))\n",
    "plt.hist(data['gap_day'].dropna(), bins=range(int(data['gap_day'].min()), int(data['gap_day'].max()) + 2), edgecolor='black', alpha=0.7)\n",
    "plt.title('Distribution of gap_day')\n",
    "plt.xlabel('Gap Day')\n",
    "plt.ylabel('Frequency')\n",
    "plt.xticks(range(int(data['gap_day'].min()), int(data['gap_day'].max()) + 1))\n",
    "plt.grid(axis='y', linestyle='--', alpha=0.7)\n",
    "\n",
    "# 显示图形\n",
    "plt.show()"
   ]
  },
  {
   "cell_type": "markdown",
   "metadata": {},
   "source": [
    "## **2. 新闻统计分析** ##"
   ]
  },
  {
   "cell_type": "code",
   "execution_count": 4,
   "metadata": {},
   "outputs": [
    {
     "name": "stderr",
     "output_type": "stream",
     "text": [
      "d:\\Anaconda\\lib\\site-packages\\openpyxl\\styles\\stylesheet.py:237: UserWarning: Workbook contains no default style, apply openpyxl's default\n",
      "  warn(\"Workbook contains no default style, apply openpyxl's default\")\n"
     ]
    },
    {
     "name": "stdout",
     "output_type": "stream",
     "text": [
      "最长的文本字符数为: 2000\n",
      "该文本位于第 5 行\n",
      "内容为: 摘要 　　国常会：研究推动保险业高质量发展的若干意见； 　　央行8月净买入国债1000亿元； 　　央行：二季度末个人住房贷款余额37.79万亿元，同比下降2.1%； 　　财政部：将加大财政政策实施力度； 　　商务部等五部门联合出台《推动电动自行车以旧换新实施方案》； 　　中央汇金大幅加仓，继续增持头部宽基ETF； 　　A股上市公司中期分红近5300亿元，创历史新高； 　　广州：全市新房开始推行“买房即交房、交证”。 　　热点聚焦 　　国常会：研究推动保险业高质量发展的若干意见 　　8月30日召开的国务院常务会议，研究推动保险业高质量发展的若干意见，部署落实大食物观相关工作，审议通过《加快完善海河流域防洪体系实施方案》和《网络数据安全管理条例（草案）》，讨论《中华人民共和国海商法（修订草案）》。会议指出，保险业在保障和改善民生、防灾减损、服务实体经济等方面具有重要作用。要夯实保险业高质量发展制度基础，牢固树立服务优先理念，充分发挥商业保险等市场机制作用，大力提升保险业保障能力和服务水平。要紧盯关键领域和薄弱环节加强监管，保障消费者合法权益，健全风险防范制度体系。要培育壮大保险资金等耐心资本，打通制度障碍，完善考核评估机制，为资本市场和科技创新提供稳定的长期投资。 　　央行8月净买入国债1000亿元 　　中国人民银行8月30日首次发布国债买卖业务公告称，为贯彻落实中央金融工作会议相关要求，8月人民银行开展了公开市场国债买卖操作，向部分公开市场业务一级交易商买入短期限国债并卖出长期限国债，全月净买入债券面值为1000亿元。央行净买入1000亿元国债，实际是向公开市场投放了基础货币。“这表明了央行支持性的货币政策立场，预示着后续流动性的合理充裕状态。”民生银行首席经济学家温彬对证券时报记者表示。随着公开市场国债买卖操作正式纳入货币政策工具箱，金融资源的配置效率有望进一步提升。受访专家学者认为，央行通过增加国债的买卖规模和频率精准调控银行间流动性，并避免再贷款等工具大规模到期续作时的扰动。 　　央行：二季度末个人住房贷款余额37.79万亿元同比降2.1% 　　央行发布2024年二季度金融机构贷款投向统计报告，2024年二季度末，房地产开发贷款余额13.77万亿元，同比增长2.8%，增速比上年末高1.3个百分点，上半年增加6105亿元。个人住房贷款余额37.79万亿元，同比下降2.1%。2024年二季度末，人民币房地产贷款余额53.1万亿元，同比下降1%，增速比上年末高0.04个百分点；上半年增加1976亿元，同比多增427亿元。 　　财政部：将加大财政政策实施力度 　　财政部发布2024年上半年中国财政政策执行情况报告。下一步，将加大财政政策实施力度。一是加力支持“两新”工作。统筹安排和用好超长期特别国债资金，通过增规模、降门槛、扩范围、简流程，优化设备更新支持方式；通过增强地方自主权、发挥地方创造力，支持地方提升消费品以旧换新能力。实施好汽车以旧换新补贴、新能源城市公交车及动力电池更新补贴等政策。二是更好发挥政府投资带动放大效应。发行并用好超长期特别国债，支持“两重”建设；加快地方政府专项债券发行使用，形成更多实物工作量；积极引导社会资本参与，着力提高投资综合效益。三是持续优化和落实好税费优惠政策。更好发挥关税等宏观调控职能，进一步优化调整进口税收政策。四是切实加强与货币等其他政策协同。综合运用政策性金融、贴息奖补、融资担保等政策工具，支持和撬动更多资金精准支持经济社会发展重点领域和薄弱环节。五是密切跟踪预算执行和政策落实情况。 　　财政部：建立全口径地方债务监测机制坚决遏制化债不实和新增隐性债务 　　财政部发布2024年上半年中国财政政策执行情况报告。下一步，防范化解地方政府债务风险。统筹好风险化解和稳定发展，进一步落实一揽子化债方案，省负总责、市县尽全力化债，逐步降低债务风险水平。加强融资需求端和供给端管控，强化政府支出事项和政府投资项目管理，规范金融机构融资业务，阻断新增隐性债务路径。建立全口径地方债务监测机制，加强跨部门数据信息共享应用，加大协同监管和追责问责力度，坚决遏制化债不实和新增隐性债务。分类推进融资平台公司改革转型，加快压降平台数量和隐性债务规模。完善专项债券管理制度，强化项目资产管理、收入归集，确保按时偿还、不出风险。 　　五部门联合出台《推动电动自行车以旧换新实施方案》 　　8月30日，商务部、工业和信息化部、生态环境部、市场监管总局、国家消防救援局等五部门印发《推动电动自行车以旧换新实施方案》，这是我国首次出台电动自行车以旧换新政策。《实施方案》指出，各地要统筹用好加力支持消费品以旧换新相关资金，结合实际制定电动自行车以旧换新实施方案，对交回个人名下老旧电动自行车并换购电动自行车新车的消费者予以补贴，鼓励享受补\n"
     ]
    }
   ],
   "source": [
    "import pandas as pd\n",
    "\n",
    "\n",
    "def main():\n",
    "    # 读取 xlsx 文件\n",
    "    df = pd.read_excel('../DATA/test_data.xlsx')\n",
    "    # 获取 NewsContent 列\n",
    "    news_content = df['NewsContent']\n",
    "    max_length = 0\n",
    "    max_index = None\n",
    "    max_content = None\n",
    "    for index, content in news_content.items():\n",
    "        if isinstance(content, str) and len(content) > max_length:\n",
    "            max_length = len(content)\n",
    "            max_index = index\n",
    "            max_content = content\n",
    "    print(f\"最长的文本字符数为: {max_length}\")\n",
    "    print(f\"该文本位于第 {max_index + 1} 行\")\n",
    "    print(f\"内容为: {max_content}\")\n",
    "\n",
    "\n",
    "if __name__ == \"__main__\":\n",
    "    main()"
   ]
  },
  {
   "cell_type": "markdown",
   "metadata": {},
   "source": [
    "## **3. 情绪词典提取txt格式** ##"
   ]
  },
  {
   "cell_type": "code",
   "execution_count": 6,
   "metadata": {},
   "outputs": [
    {
     "name": "stdout",
     "output_type": "stream",
     "text": [
      "处理完成！输出文件已保存为: ../DATA/process_senti_dic_EN.txt\n"
     ]
    }
   ],
   "source": [
    "import re\n",
    "\n",
    "input_file = '../DATA/ori_senti_bignomics.txt'  # 输入文件名\n",
    "output_file = '../DATA/process_senti_dic_EN.txt'  # 输出文件名\n",
    "\n",
    "pattern = r\"senti_bignomics\\['(.*?)'\\] = \\['(.*?)'\\]\"\n",
    "\n",
    "with open(input_file, 'r', encoding='utf-8') as f_in, \\\n",
    "     open(output_file, 'w', encoding='utf-8') as f_out:\n",
    "    \n",
    "    for line in f_in:\n",
    "        # 提取两个方括号内的内容\n",
    "        match = re.search(pattern, line.strip())\n",
    "        if match:\n",
    "            word = match.group(1)        # 第一个方括号内容 (abandon)\n",
    "            score = match.group(2)       # 第二个方括号内容 (-0.5)\n",
    "            f_out.write(f\"{word}\\t{score}\\n\")\n",
    "\n",
    "print(\"处理完成！输出文件已保存为:\", output_file)"
   ]
  },
  {
   "cell_type": "markdown",
   "metadata": {},
   "source": [
    "### **新闻段落切割的前期统计***"
   ]
  },
  {
   "cell_type": "code",
   "execution_count": 1,
   "metadata": {},
   "outputs": [
    {
     "name": "stderr",
     "output_type": "stream",
     "text": [
      "Processing: 100%|██████████| 331443/331443 [00:36<00:00, 9140.23it/s] \n"
     ]
    },
    {
     "name": "stdout",
     "output_type": "stream",
     "text": [
      "至少有 2 个\\n的样本比例为: 75.79%\n"
     ]
    }
   ],
   "source": [
    "import pandas as pd\n",
    "from multiprocessing import Pool\n",
    "from tqdm import tqdm\n",
    "\n",
    "\n",
    "def check_newline_count(row):\n",
    "    try:\n",
    "        return isinstance(row, str) and row.count('\\n') >= 2\n",
    "    except AttributeError:\n",
    "        return False\n",
    "\n",
    "\n",
    "def parallel_process(df):\n",
    "    with Pool() as pool:\n",
    "        results = list(tqdm(pool.imap(check_newline_count, df['NewsContent']), total=len(df), desc=\"Processing\"))\n",
    "    return sum(results)\n",
    "\n",
    "\n",
    "if __name__ == \"__main__\":\n",
    "    # 读取 Excel 文件\n",
    "    df = pd.read_excel('/root/onethingai-fs/mydata/newspaper/sjjjbd21_331443.xlsx')\n",
    "\n",
    "    # 并行处理数据\n",
    "    count = parallel_process(df)\n",
    "\n",
    "    # 计算总样本数量\n",
    "    total = len(df)\n",
    "\n",
    "    # 计算比例\n",
    "    proportion = count / total\n",
    "\n",
    "    print(f'至少有 2 个\\\\n的样本比例为: {proportion:.2%}')"
   ]
  },
  {
   "cell_type": "code",
   "execution_count": 2,
   "metadata": {},
   "outputs": [
    {
     "name": "stderr",
     "output_type": "stream",
     "text": [
      "Processing: 100%|██████████| 285363/285363 [00:22<00:00, 12448.05it/s]\n"
     ]
    },
    {
     "name": "stdout",
     "output_type": "stream",
     "text": [
      "总字数在 8000 以上的新闻比例为: 0.08%\n"
     ]
    }
   ],
   "source": [
    "import pandas as pd\n",
    "from multiprocessing import Pool\n",
    "from tqdm import tqdm\n",
    "\n",
    "\n",
    "def count_total_chars(row):\n",
    "    return len(row) > 8000\n",
    "\n",
    "\n",
    "def parallel_process(df):\n",
    "    with Pool() as pool:\n",
    "        results = list(tqdm(pool.imap(count_total_chars, df['NewsContent']), total=len(df), desc=\"Processing\"))\n",
    "    return sum(results)\n",
    "\n",
    "\n",
    "if __name__ == \"__main__\":\n",
    "    # 读取 Excel 文件\n",
    "\n",
    "\n",
    "    # 并行处理数据\n",
    "    count = parallel_process(df)\n",
    "\n",
    "    # 计算总样本数量\n",
    "    total = len(df)\n",
    "\n",
    "    # 计算比例\n",
    "    proportion = count / total\n",
    "\n",
    "    print(f'总字数在 8000 以上的新闻比例为: {proportion:.2%}')"
   ]
  },
  {
   "cell_type": "markdown",
   "metadata": {},
   "source": [
    "### **RAG之后的列展开***"
   ]
  },
  {
   "cell_type": "code",
   "execution_count": null,
   "metadata": {},
   "outputs": [
    {
     "name": "stdout",
     "output_type": "stream",
     "text": [
      "✅ 成功导出到 parsed_cleaned.xlsx\n"
     ]
    }
   ],
   "source": [
    "import pandas as pd\n",
    "import json\n",
    "import re\n",
    "\n",
    "# ✅ 设置要保留的原始列（可以按需修改）\n",
    "columns_to_keep = ['DeclareDate', 'Title','NewsContent', 'NewsSource', 'yearmonth']  # 举例：只保留这两列\n",
    "\n",
    "# ✅ 读取原始 Excel 文件\n",
    "df = pd.read_excel(\"/root/onethingai-fs/mydata/newspaper/process_data/sjjjbd21_331443_rag_middle.xlsx\")\n",
    "\n",
    "# ✅ 提取 JSON 中的字段\n",
    "def extract_json_fields(cell):\n",
    "    try:\n",
    "        if pd.isna(cell):\n",
    "            return pd.DataFrame()\n",
    "        json_obj = json.loads(str(cell))\n",
    "        result = []\n",
    "        for context, value in json_obj.items():\n",
    "            result.append({\n",
    "                'context': context,\n",
    "                'topic': value.get('topic'),\n",
    "                'similarity': value.get('similarity'),\n",
    "                'prompt': value.get('prompt')\n",
    "            })\n",
    "        return pd.DataFrame(result)\n",
    "    except Exception as e:\n",
    "        print(f\"解析失败：{e}\\n内容为：{cell}\")\n",
    "        return pd.DataFrame()\n",
    "\n",
    "# ✅ 从 prompt 中提取新闻文本和情绪词典\n",
    "def extract_from_prompt(prompt):\n",
    "    try:\n",
    "        match = re.search(r'新闻文本是“(.*?)”，包含的情绪词典是：(.*)', prompt)\n",
    "        if match:\n",
    "            news_text = match.group(1)\n",
    "            sentiment_dict = match.group(2)\n",
    "            return pd.Series({'cut_news': news_text, 'sentiment_dict': sentiment_dict})\n",
    "        else:\n",
    "            return pd.Series({'cut_news': None, 'sentiment_dict': None})\n",
    "    except Exception as e:\n",
    "        print(f\"提取失败：{e}\\n内容为：{prompt}\")\n",
    "        return pd.Series({'cut_news': None, 'sentiment_dict': None})\n",
    "\n",
    "# ✅ 主处理逻辑\n",
    "all_rows = []\n",
    "for i, row in df.iterrows():\n",
    "    expanded = extract_json_fields(row['cut_news_topic_match'])\n",
    "    if not expanded.empty:\n",
    "        for col in df.columns:\n",
    "            if col != 'cut_news_topic_match':\n",
    "                expanded[col] = row[col]\n",
    "        expanded['cut_news_topic_match'] = row['cut_news_topic_match']\n",
    "        all_rows.append(expanded)\n",
    "\n",
    "if all_rows:\n",
    "    final_df = pd.concat(all_rows, ignore_index=True)\n",
    "\n",
    "    # 保留原始列 + 插入新列\n",
    "    original_cols = df.columns.tolist()\n",
    "    extracted_fields = final_df['prompt'].apply(extract_from_prompt)\n",
    "    final_df = pd.concat([final_df, extracted_fields], axis=1)\n",
    "\n",
    "    # 可选：只保留你想要的原始列 + 所有新列\n",
    "    selected_cols = columns_to_keep + [col for col in final_df.columns if col not in df.columns]\n",
    "    final_df = final_df[selected_cols]\n",
    "\n",
    "    # final_df.to_excel(\"parsed_cleaned_0507.xlsx\", index=False)\n",
    "    print(\"✅ 成功导出到 parsed_cleaned.xlsx\")\n",
    "else:\n",
    "    print(\"❌ 没有成功解析任何 JSON 行\")\n",
    "    \n",
    "value_counts = final_df['topic'].value_counts()\n",
    "print(\"每个值的数量:\")\n",
    "print(value_counts)\n",
    "\n",
    "lengths = final_df['context'].str.len()\n",
    "\n",
    "# 计算平均长度\n",
    "average_length = lengths.mean()\n",
    "\n",
    "print(f\"context 列的平均长度为: {average_length}\")"
   ]
  },
  {
   "cell_type": "markdown",
   "metadata": {},
   "source": [
    "### **窗口划分无段落新闻**"
   ]
  },
  {
   "cell_type": "code",
   "execution_count": null,
   "metadata": {},
   "outputs": [],
   "source": [
    "import pandas as pd\n",
    "# 计数被添加换行符的行数\n",
    "modified_rows = 0\n",
    "\n",
    "# 修改函数以返回是否修改的标志\n",
    "def add_newlines(text, window=400):\n",
    "    \"\"\"\n",
    "    在文本中添加换行符，规则如下：\n",
    "    1. 如果文本中已有的换行符数量大于等于2，不做处理\n",
    "    2. 从文本的第window个字符位置向前查找最近的句号，在该句号后添加换行符\n",
    "    3. 在处理过的文本中，继续从下一个window字符位置查找\n",
    "    4. 直到剩余文本长度不足window个字符\n",
    "    \n",
    "    返回: (处理后的文本, 是否被修改)\n",
    "    \"\"\"\n",
    "    # 检查已有换行符数量\n",
    "    if text.count('\\n') >= 2:\n",
    "        return text, False\n",
    "    \n",
    "    # 检查文本长度是否需要处理\n",
    "    if len(text) <= window:\n",
    "        return text, False\n",
    "    \n",
    "    result = \"\"\n",
    "    remaining_text = text\n",
    "    modified = False\n",
    "    \n",
    "    while len(remaining_text) > window:\n",
    "        chunk = remaining_text[:window]\n",
    "        \n",
    "        last_period_index = chunk.rfind('。')\n",
    "        \n",
    "        if last_period_index == -1:\n",
    "            last_period_index = chunk.rfind('！')\n",
    "        if last_period_index == -1:\n",
    "            last_period_index = chunk.rfind('？')\n",
    "        if last_period_index == -1:\n",
    "            last_period_index = chunk.rfind('.')\n",
    "        \n",
    "        if last_period_index == -1:\n",
    "            result += remaining_text[:window] + '\\n'\n",
    "            remaining_text = remaining_text[window:]\n",
    "        else:\n",
    "            result += remaining_text[:last_period_index + 1] + '\\n'\n",
    "            remaining_text = remaining_text[last_period_index + 1:]\n",
    "        \n",
    "        modified = True\n",
    "    \n",
    "    result += remaining_text\n",
    "    \n",
    "    return result, modified\n",
    "\n",
    "# 应用函数并统计修改的行数\n",
    "def process_text(x, window=400):\n",
    "    # 检查是否为NaN或None\n",
    "    if pd.isna(x) or x is None:\n",
    "        return x  # 如果是NaN值，直接返回不处理\n",
    "    \n",
    "    try:\n",
    "        processed_text, was_modified = add_newlines(x, window)\n",
    "        global modified_rows\n",
    "        if was_modified:\n",
    "            modified_rows += 1\n",
    "        return processed_text\n",
    "    except Exception as e:\n",
    "        # 出现任何错误时，原样返回文本\n",
    "        print(f\"处理文本时出错: {e}, 跳过此行\")\n",
    "        return x\n",
    "\n",
    "text = \"\"\"这是一段示。例文本它可能会\\n比较长，为了演fasfas f了演fasfas fasfjasfhjg长，为了演fasfas f了演fasfas fasfjasfhjgai示换行的效果，我们。长，为了演fasfas f了演fasfas fasfjasfhjgai示换行的效果，我们。长，为了演fasfas f了演fasfas fasfjasfhjgai示换行的效果，我们。长，为了演fasfas f了演fasfas fasfjasfhjgai示换行的效果，我们。长，为了演fasfas f了演fasfas fasfjasfhjgai示换行的效果，我们。长，为了演fasfas f了演fasfas fasfjasfhjgai示换行的效果，我们。\\nai示换行的效果，我们。了演fasfas fasfjasfhjgai示换行的效果，我们。了演fasfas fasfjasfhjgai示换行的效果，我们。了演fasfas fasfjasfhjgai示换行的效果，我们。了演fasfas fasfjasfhjgai示换行的效果，我们。了演fasfas fasfjasfhjgai示换行的效果，我们。了演fasfas fasfjasfhjgai示换行的效果，我们。了演fasfas fasfjasfhjgai示换行的效果，我们。了演fasfas fasfjasfhjgai示换行的效果，我们。asfjasfhjgai示换行的效果，我们。会让。它更长一些这是第。二句话，也需要继续扩展这是第三句话，同样要扩展内容。\"\"\"\n",
    "\n",
    "print(process_text(text))\n",
    "\n",
    "import pandas as pd\n",
    "df = pd.read_excel(\"/root/onethingai-fs/mydata/newspaper/jjrb_468123.xlsx\")\n",
    "\n",
    "# 处理DataFrame\n",
    "df['NewsContent_process'] = df['NewsContent'].apply(lambda x: process_text(x, window=400))\n",
    "\n",
    "# 输出统计结果\n",
    "print(f\"总共有 {modified_rows} 行样本被手动划分了段落\")\n",
    "\n",
    "df.to_excel('/root/onethingai-fs/mydata/newspaper/jjrb_468123_mid.xlsx')"
   ]
  },
  {
   "cell_type": "code",
   "execution_count": 6,
   "metadata": {},
   "outputs": [],
   "source": [
    "import pandas as pd\n",
    "df = pd.read_excel(\"/root/onethingai-fs/mydata/newspaper/jjrb_468123.xlsx\")"
   ]
  },
  {
   "cell_type": "code",
   "execution_count": 7,
   "metadata": {},
   "outputs": [
    {
     "name": "stdout",
     "output_type": "stream",
     "text": [
      "总共有 27277 行样本被手动划分了段落\n"
     ]
    }
   ],
   "source": [
    "# 处理DataFrame\n",
    "df['NewsContent_process'] = df['NewsContent'].apply(lambda x: process_text(x, window=400))\n",
    "\n",
    "# 输出统计结果\n",
    "print(f\"总共有 {modified_rows} 行样本被手动划分了段落\")"
   ]
  },
  {
   "cell_type": "code",
   "execution_count": 8,
   "metadata": {},
   "outputs": [],
   "source": [
    "df.to_excel('/root/onethingai-fs/mydata/newspaper/jjrb_468123_mid.xlsx')"
   ]
  },
  {
   "cell_type": "markdown",
   "metadata": {},
   "source": [
    "### **中英混合情绪词只保留英文***"
   ]
  },
  {
   "cell_type": "code",
   "execution_count": 11,
   "metadata": {},
   "outputs": [],
   "source": [
    "import pandas as pd\n",
    "df  = pd.read_excel('/root/LLM_news_emo_analyze/emo_match_output_result/train_data_add0522.xlsx')"
   ]
  },
  {
   "cell_type": "code",
   "execution_count": 8,
   "metadata": {},
   "outputs": [
    {
     "name": "stdout",
     "output_type": "stream",
     "text": [
      "disfaincentive:11.0\n"
     ]
    }
   ],
   "source": [
    "import re\n",
    "\n",
    "def extract_bracket_content_and_value(text):\n",
    "    \"\"\"\n",
    "    从文本中提取括号内的内容和后面的分值，支持负数、零和小数\n",
    "    输入格式例如: \"抑制因素/阻碍因素(disincentive):-0.3,药物/毒品(drug):0.0\"\n",
    "    输出格式例如: \"disincentive:-0.3,drug:0.0\"\n",
    "    \"\"\"\n",
    "    # 修改正则表达式以匹配包括负数和零在内的所有数值\n",
    "    pattern = r'\\(([^)]+)\\):([-]?[0-9]*\\.?[0-9]+)'\n",
    "    matches = re.findall(pattern, text)\n",
    "    \n",
    "    # 将匹配结果组合为需要的格式\n",
    "    if matches:\n",
    "        result = ','.join([f\"{term}:{value}\" for term, value in matches])\n",
    "        return result\n",
    "    else:\n",
    "        return \"\"\n",
    "\n",
    "# 测试示例\n",
    "text = \"抑制因素/阻碍fasa因古fafas典诗歌的素(disfaincentive):11.0\"\n",
    "result = extract_bracket_content_and_value(text)\n",
    "print(result)  # 输出: disincentive:-0.3,drug:0.0"
   ]
  },
  {
   "cell_type": "code",
   "execution_count": 9,
   "metadata": {},
   "outputs": [],
   "source": [
    "final_df['sentiment_dict_v2'] = final_df['sentiment_dict'].apply(lambda x: extract_bracket_content_and_value(x) if pd.notna(x) else x)"
   ]
  },
  {
   "cell_type": "code",
   "execution_count": 16,
   "metadata": {},
   "outputs": [],
   "source": [
    "final_df.drop('prompt', axis=1, inplace=True)"
   ]
  },
  {
   "cell_type": "code",
   "execution_count": 11,
   "metadata": {},
   "outputs": [
    {
     "name": "stdout",
     "output_type": "stream",
     "text": [
      "原始数据有 387779 行\n",
      "筛选后有 387779 行\n"
     ]
    }
   ],
   "source": [
    "# 筛选sentiment_dict_v2不为空的行\n",
    "filtered_df = final_df[(final_df['sentiment_dict_v2'] != \"\") & (pd.notna(final_df['sentiment_dict_v2']))]\n",
    "\n",
    "# 查看结果行数\n",
    "print(f\"原始数据有 {len(final_df)} 行\")\n",
    "print(f\"筛选后有 {len(filtered_df)} 行\")"
   ]
  },
  {
   "cell_type": "code",
   "execution_count": 21,
   "metadata": {},
   "outputs": [],
   "source": [
    "final_df.to_excel('/root/onethingai-fs/mydata/newspaper/process_data/sjjjbd21_331443_rag_for_label.xlsx')"
   ]
  },
  {
   "cell_type": "markdown",
   "metadata": {},
   "source": [
    "### **添加prompt列***"
   ]
  },
  {
   "cell_type": "code",
   "execution_count": 3,
   "metadata": {},
   "outputs": [],
   "source": [
    "prompt = \"\"\"**角色定义**\n",
    "你是一位擅长中英双语的中国市场情绪分析专家，能够基于任务流程对新闻文本的市场情绪进行客观、准确的打分：\n",
    "\n",
    "**任务流程**\n",
    "1. 分析新闻整体内容情绪\n",
    "2. 匹配情绪词典关键词，对情绪进行深入理解与分析\n",
    "3. 输出情绪分析跟对应的五档制评分结果（-1.0/-0.5/0.0/0.5/1.0，分别代表非常消极、比较消极、中性、比较积极、非常积极）\n",
    "\n",
    "**评分逻辑**\n",
    "1. 语义匹配：忽略情绪词典中与新闻不相关的情绪词，保留有效情绪词\n",
    "2. 评级调整：新闻整体语义优先，情绪词典辅助修正\n",
    "\n",
    "**示例说明**\n",
    "- 示例1：\n",
    "新闻文本：实现净利润同比增长137.98%，单季度的盈利规模超过中信证券成为业内第一\n",
    "情绪词典：profitability:0.6,profit:0.8\n",
    "情绪分析:①语义信息为净利润同比大幅增长137.98%及单季度盈利规模跃居行业第一，均体现超预期的盈利能力突破；②关键情绪词调整：“净利润”（匹配profit）和“盈利”（匹配profitability）共同强化积极方向。两重强信号叠加符合最高档1.0分（非常积极）的评分结果。\n",
    "情绪得分:1.0\n",
    "\n",
    "- 示例2：\n",
    "新闻文本：中国的A股定位反而是比较便宜的，外资从全球定价认为我们非常有吸引力\n",
    "情绪词典：mispricing:-0.4,advantage:0.7\n",
    "情绪分析:①语义信息为A股估值被强调为“便宜”及外资认可其全球定价吸引力，隐含市场价值被低估的积极信号；②关键情绪词调整：未直接匹配词典中的“mispricing”或“advantage”，但“便宜”隐含定价偏离逻辑（映射mispricing方向），“有吸引力”间接呼应优势（advantage方向）。由于缺乏词典强匹配项限制进一步上调空间，整体乐观基调符合“比较积极”，情绪得分0.5。\n",
    "情绪得分:0.5\n",
    "\n",
    "- 示例3：\n",
    "新闻文本：美国信奉自由市场经济理念，主张靠无形的手调整经济活动\n",
    "情绪词典：free:0.2,immateriality:-0.2\n",
    "情绪分析:①语义信息为对美国经济理念的中性陈述，既未直接关联中国市场优劣，也未体现政策对华影响；②关键情绪词调整：“自由”（匹配free:+0.2）与“无形”（匹配immateriality:-0.2）存在方向冲突，但文本未实际使用“immateriality”原词（仅隐含“无形的手”概念），语义匹配强度不足。陈述性内容缺乏明确情绪导向，符合中性基准0.0分。\n",
    "情绪得分:0.0\n",
    "\n",
    "- 示例4：\n",
    "新闻文本：我们投入的前期费用谁来承担\n",
    "情绪词典：invest:0.3\n",
    "情绪分析:①语义信息为对前期费用承担主体的质疑，隐含投入成本未被消化的潜在风险，传递财务负担不确定性的负面情绪；②关键情绪词调整：“投入”（匹配invest:+0.3）存在方向性冲突，因文本中“投入”实际指向成本分摊压力而非正向投资预期，情绪词得分被整体语义逆向修正。中性词主导+隐含担忧的复合信号符合低度负面评分档位“比较消极”，即情绪得分-0.5分。\n",
    "情绪得分:-0.5\n",
    "\n",
    "- 示例5：\n",
    "新闻文本：饱受美国次贷危机冲击的华尔街再次风云突变\n",
    "情绪词典：crash:-0.9,meltdown:-0.8\n",
    "情绪分析:①语义信息为华尔街受次贷危机冲击引发的市场动荡，此类全球金融中心的不稳定通常导致跨国资本避险情绪上升，对中国市场构成外溢风险；②关键情绪词调整：未直接匹配“crash”或“meltdown”，但“次贷危机冲击”与“风云突变”共同映射系统性风险（贴近meltdown的-0.8方向），叠加事件严重性突破常规调整范畴。极端负面事件的整体语义强度主导评分，因此是非常消极，情绪得分-1.0分。\n",
    "情绪得分:-1.0\n",
    "\n",
    "\n",
    "**其他说明**\n",
    "- 情绪词典的分值仅作语义方向参考\n",
    "- 情绪得分必须是五档制选择，不得出现-1.0/-0.5/0.0/0.5/1.0之外的分数\n",
    "- 输出格式：{\"情绪分析\":\"...\",\"情绪得分\":\"...\"}\n",
    "\n",
    "现在，请你开始分析并按照要求输出结果：\n",
    "新闻文本：{{新闻文本}}\n",
    "情绪词典：{{情绪词}}\"\"\""
   ]
  },
  {
   "cell_type": "code",
   "execution_count": 1,
   "metadata": {},
   "outputs": [],
   "source": [
    "import pandas as pd\n",
    "df = pd.read_excel('/root/onethingai-fs/mydata/newspaper/process_data/sjjjbd21_331443_rag_for_label.xlsx')"
   ]
  },
  {
   "cell_type": "code",
   "execution_count": null,
   "metadata": {},
   "outputs": [],
   "source": [
    "prompt2 = \"\"\"**角色定义**\n",
    "你是一位擅长中英双语的中国市场情绪分析专家，能够基于任务流程对新闻文本的市场情绪进行客观、准确的评级：\n",
    "\n",
    "**任务流程**\n",
    "1. 分析新闻整体内容情绪\n",
    "2. 匹配情绪词典关键词，对情绪进行深入理解与分析\n",
    "3. 输出情绪分析跟对应的五档制评级结果（非常消极/比较消极/中性/比较积极/非常积极）\n",
    "\n",
    "**情绪评级逻辑**\n",
    "1. 语义匹配：忽略情绪词典中与新闻不相关的情绪词，保留有效情绪词\n",
    "2. 评级调整：新闻整体语义优先，情绪词典辅助修正\n",
    "\n",
    "**示例说明**\n",
    "- 示例1：\n",
    "新闻文本：实现净利润同比增长137.98%，单季度的盈利规模超过中信证券成为业内第一\n",
    "情绪词典：profitability:0.6,profit:0.8\n",
    "情绪分析:①语义信息为净利润同比大幅增长137.98%及单季度盈利规模跃居行业第一，均体现超预期的盈利能力突破；②关键情绪词调整：“净利润”（匹配profit）和“盈利”（匹配profitability）共同强化积极方向。两重强信号叠加符合最高档“非常积极”。\n",
    "情绪评级:非常积极\n",
    "\n",
    "- 示例2：\n",
    "新闻文本：中国的A股定位反而是比较便宜的，外资从全球定价认为我们非常有吸引力\n",
    "情绪词典：mispricing:-0.4,advantage:0.7\n",
    "情绪分析:①语义信息为A股估值被强调为“便宜”及外资认可其全球定价吸引力，隐含市场价值被低估的积极信号；②关键情绪词调整：未直接匹配词典中的“mispricing”或“advantage”，但“便宜”隐含定价偏离逻辑（映射mispricing方向），“有吸引力”间接呼应优势（advantage方向）。由于缺乏词典强匹配项限制进一步上调空间，整体乐观基调符合“比较积极”。\n",
    "情绪评级:比较积极\n",
    "\n",
    "- 示例3：\n",
    "新闻文本：美国信奉自由市场经济理念，主张靠无形的手调整经济活动\n",
    "情绪词典：free:0.2,immateriality:-0.2\n",
    "情绪分析:①语义信息为对美国经济理念的中性陈述，既未直接关联中国市场优劣，也未体现政策对华影响；②关键情绪词调整：“自由”（匹配free:+0.2）与“无形”（匹配immateriality:-0.2）存在方向冲突，但文本未实际使用“immateriality”原词（仅隐含“无形的手”概念），语义匹配强度不足。陈述性内容缺乏明确情绪导向，只是陈述事件，符合中性基准。\n",
    "情绪评级:中性\n",
    "\n",
    "- 示例4：\n",
    "新闻文本：我们投入的前期费用谁来承担\n",
    "情绪词典：invest:0.3\n",
    "情绪分析:①语义信息为对前期费用承担主体的质疑，隐含投入成本未被消化的潜在风险，传递财务负担不确定性的负面情绪；②关键情绪词调整：“投入”（匹配invest:+0.3）存在方向性冲突，因文本中“投入”实际指向成本分摊压力而非正向投资预期，情绪词得分被整体语义逆向修正。中性词主导+隐含担忧的复合信号符合低度负面评分档位“比较消极”。\n",
    "情绪评级:比较消极\n",
    "\n",
    "- 示例5：\n",
    "新闻文本：饱受美国次贷危机冲击的华尔街再次风云突变\n",
    "情绪词典：crash:-0.9,meltdown:-0.8\n",
    "情绪分析:①语义信息为华尔街受次贷危机冲击引发的市场动荡，此类全球金融中心的不稳定通常导致跨国资本避险情绪上升，对中国市场构成外溢风险；②关键情绪词调整：未直接匹配“crash”或“meltdown”，但“次贷危机冲击”与“风云突变”共同映射系统性风险（贴近meltdown的-0.8方向），叠加事件严重性突破常规调整范畴。极端负面事件的整体语义强度主导评分，因此是“非常消极”。\n",
    "情绪评级:非常消极\n",
    "\n",
    "\n",
    "**其他说明**\n",
    "- 情绪词典的分值仅作辅助作用\n",
    "- 情绪评级必须是五档制选择，不得出现非常消极/比较消极/中性/比较积极/非常积极之外的情绪等级\n",
    "- 输出格式：{\"情绪分析\":\"...\",\"情绪评级\":\"...\"}\n",
    "}\n",
    "现在，请你开始分析并按照要求输出结果：\n",
    "新闻文本：{{新闻文本}}\n",
    "情绪词典：{{情绪词}}\"\"\"\n",
    "df['qwen_input'] = df.apply(\n",
    "    lambda row: prompt2.replace('{{新闻文本}}', row['cut_news'] + ('。' if not row['cut_news'].endswith('。') else ''))\n",
    "              .replace('{{情绪词}}', row['sentiment_dict_v2']),\n",
    "    axis=1\n",
    ")"
   ]
  },
  {
   "cell_type": "code",
   "execution_count": 4,
   "metadata": {},
   "outputs": [],
   "source": [
    "df['qwen_input'] = df.apply(\n",
    "    lambda row: prompt2.replace('{{新闻文本}}', row['cut_news'] + ('。' if not row['cut_news'].endswith('。') else ''))\n",
    "              .replace('{{情绪词}}', row['sentiment_dict_v2']),\n",
    "    axis=1\n",
    ")"
   ]
  },
  {
   "cell_type": "code",
   "execution_count": 7,
   "metadata": {},
   "outputs": [],
   "source": [
    "df.to_excel('/root/onethingai-fs/mydata/newspaper/process_data/sjjjbd21_331443_rag_uninfer.xlsx')"
   ]
  },
  {
   "cell_type": "code",
   "execution_count": null,
   "metadata": {},
   "outputs": [
    {
     "name": "stdout",
     "output_type": "stream",
     "text": [
      "抽样数据形状: (100, 13)\n",
      "剩余数据形状: (10689, 13)\n"
     ]
    }
   ],
   "source": [
    "import pandas as pd\n",
    "\n",
    "def split_data_randomly(df, sample_size=100, random_state=42):\n",
    "    \"\"\"\n",
    "    随机分割DataFrame为两部分\n",
    "    \n",
    "    参数:\n",
    "    df (pd.DataFrame): 源数据\n",
    "    sample_size (int): 随机抽取的样本量\n",
    "    random_state (int): 随机数种子，用于结果可重现\n",
    "    \n",
    "    返回:\n",
    "    tuple: (抽样数据, 剩余数据)\n",
    "    \"\"\"\n",
    "    # 确保抽样数量不超过数据总量\n",
    "    if sample_size > len(df):\n",
    "        sample_size = len(df)\n",
    "        print(f\"警告: 抽样数量({sample_size})超过数据总量，将返回全部数据\")\n",
    "    \n",
    "    # 随机抽样\n",
    "    sampled_df = df.sample(n=sample_size, random_state=random_state)\n",
    "    \n",
    "    # 获取剩余数据（使用索引取反）\n",
    "    remaining_df = df.drop(sampled_df.index)\n",
    "    \n",
    "    return sampled_df, remaining_df\n",
    "\n",
    "# 使用示例\n",
    "if __name__ == \"__main__\":\n",
    "    # 创建示例数据\n",
    "    \n",
    "    # 随机抽取100条数据，并获取剩余数据\n",
    "    sampled_data, remaining_data = split_data_randomly(final_df, 100)\n",
    "    \n",
    "    print(f\"抽样数据形状: {sampled_data.shape}\")\n",
    "    print(f\"剩余数据形状: {remaining_data.shape}\")    "
   ]
  },
  {
   "cell_type": "code",
   "execution_count": 18,
   "metadata": {},
   "outputs": [],
   "source": [
    "sampled_data.to_excel('/root/LLM_news_emo_analyze/DATA/second_part_data/sample100.xlsx')\n",
    "remaining_data.to_excel('/root/LLM_news_emo_analyze/DATA/second_part_data/remainData.xlsx')"
   ]
  },
  {
   "cell_type": "code",
   "execution_count": 29,
   "metadata": {},
   "outputs": [],
   "source": [
    "final_df.to_excel('/root/LLM_news_emo_analyze/DATA/second_part_data/final_add_data_0523.xlsx')"
   ]
  }
 ],
 "metadata": {
  "kernelspec": {
   "display_name": "news_emo",
   "language": "python",
   "name": "python3"
  },
  "language_info": {
   "codemirror_mode": {
    "name": "ipython",
    "version": 3
   },
   "file_extension": ".py",
   "mimetype": "text/x-python",
   "name": "python",
   "nbconvert_exporter": "python",
   "pygments_lexer": "ipython3",
   "version": "3.8.20"
  }
 },
 "nbformat": 4,
 "nbformat_minor": 2
}
