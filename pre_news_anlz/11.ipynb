{
 "cells": [
  {
   "cell_type": "code",
   "execution_count": 2,
   "metadata": {},
   "outputs": [],
   "source": [
    "from transformers import AutoTokenizer, AutoModel\n",
    "import torch\n",
    "import re\n",
    "import torch.nn.functional as F\n",
    "\n",
    "def load_model(model_path):\n",
    "    \"\"\"\n",
    "    加载模型和分词器。\n",
    "\n",
    "    参数:\n",
    "    model_path (str): 模型的路径。\n",
    "\n",
    "    返回:\n",
    "    tokenizer: 加载的分词器。\n",
    "    model: 加载的模型。\n",
    "    \"\"\"\n",
    "    tokenizer = AutoTokenizer.from_pretrained(model_path)\n",
    "    model = AutoModel.from_pretrained(model_path)\n",
    "    model.eval()\n",
    "    return tokenizer, model\n",
    "\n",
    "def get_embeddings(prompts, tokenizer, model):\n",
    "    \"\"\"\n",
    "    计算给定提示的嵌入表示。\n",
    "\n",
    "    参数:\n",
    "    prompts (list): 自定义提示的列表。\n",
    "    tokenizer: 加载的分词器。\n",
    "    model: 加载的模型。\n",
    "\n",
    "    返回:\n",
    "    torch.Tensor: 嵌入表示的张量。\n",
    "    \"\"\"\n",
    "    # Tokenize custom prompts\n",
    "    encoded_input = tokenizer(prompts, padding=True, truncation=True, return_tensors='pt')\n",
    "\n",
    "    # Compute token embeddings\n",
    "    with torch.no_grad():\n",
    "        model_output = model(**encoded_input)\n",
    "        # Perform pooling. In this case, cls pooling.\n",
    "        sentence_embeddings = model_output[0][:, 0]\n",
    "\n",
    "    # Normalize embeddings\n",
    "    sentence_embeddings = F.normalize(sentence_embeddings, p=2, dim=1)\n",
    "\n",
    "    return sentence_embeddings\n",
    "\n",
    "def calculate_cosine_similarity(embedding_1, embeddings):\n",
    "    \"\"\"\n",
    "    计算一个嵌入与其他多个嵌入的余弦相似度。\n",
    "\n",
    "    参数:\n",
    "    embedding_1 (torch.Tensor): 第一个嵌入表示。\n",
    "    embeddings (torch.Tensor): 其他嵌入表示的张量。\n",
    "\n",
    "    返回:\n",
    "    torch.Tensor: 相似度列表。\n",
    "    \"\"\"\n",
    "    cosine_similarities = F.cosine_similarity(embedding_1.unsqueeze(0), embeddings)\n",
    "    return cosine_similarities"
   ]
  },
  {
   "cell_type": "code",
   "execution_count": 3,
   "metadata": {},
   "outputs": [],
   "source": [
    "import pandas as pd\n",
    "def get_theme_prompts(lda_key_words_path):\n",
    "    file_path = lda_key_words_path\n",
    "    df = pd.read_excel(file_path)\n",
    "    \n",
    "    prompts = []\n",
    "    \n",
    "    for index, row in df.iterrows():\n",
    "        theme_category = row['主题类别']\n",
    "        keywords = row.dropna()[1:].tolist()\n",
    "        prompt = f\"新闻的主题是{theme_category}，关键词是{'、'.join(keywords)}\"\n",
    "        prompts.append(prompt)\n",
    "    \n",
    "\n",
    "    # 返回6个prompt\n",
    "    return prompts\n"
   ]
  },
  {
   "cell_type": "code",
   "execution_count": 17,
   "metadata": {},
   "outputs": [],
   "source": [
    "# 分隔句子\n",
    "def split_sentences(text):\n",
    "    # 使用正则表达式分隔句子\n",
    "    sentences = re.split(r'[！。？；]', text)\n",
    "    # 去掉空字符串\n",
    "    sentences = [sentence.strip() for sentence in sentences if sentence.strip()]\n",
    "    return sentences\n",
    "\n",
    "# 处理新闻文本并计算相似度\n",
    "def process_news_data(news_file_path, lda_key_words_path, model_path, output_file_path):\n",
    "    # 加载模型和分词器\n",
    "    tokenizer, model = load_model(model_path)\n",
    "    \n",
    "    # 读取新闻文本的Excel文件\n",
    "    df = pd.read_excel(news_file_path,nrows = 10)\n",
    "    \n",
    "    # 获取主题提示\n",
    "    key_topic_list = get_theme_prompts(lda_key_words_path)\n",
    "    \n",
    "    # 检查主题提示列表是否为空\n",
    "    if not key_topic_list:\n",
    "        raise ValueError(\"主题提示列表为空，请检查Excel文件内容是否正确。\")\n",
    "    \n",
    "    # 获取主题提示的嵌入\n",
    "    key_topic_embeddings = get_embeddings(key_topic_list, tokenizer, model)\n",
    "    \n",
    "    # 遍历每一行\n",
    "    for index, row in df.iterrows():\n",
    "        # 分隔句子\n",
    "        news_content = row['NewsContent']\n",
    "        sentences = split_sentences(news_content)\n",
    "        # 存储分隔后的句子\n",
    "        df.at[index, 'NewsContent_cut'] = str({f\"news_prompt{i+1}\": sentence for i, sentence in enumerate(sentences)})\n",
    "        \n",
    "        # 存储每个句子的主题匹配结果\n",
    "        topic_match_dict = {}\n",
    "        for sentence in sentences:\n",
    "            # 获取句子的嵌入\n",
    "            sentence_embedding = get_embeddings([sentence], tokenizer, model)\n",
    "            \n",
    "            # 计算相似度\n",
    "            similarity_scores = calculate_cosine_similarity(sentence_embedding, key_topic_embeddings)\n",
    "            print(similarity_scores)\n",
    "            # 检查相似度分数是否为空\n",
    "            if similarity_scores.numel() == 0:\n",
    "                raise ValueError(\"相似度分数为空，请检查模型输出是否正确。\")\n",
    "            \n",
    "            # 找出相似度最高的主题\n",
    "            max_similarity_index = torch.argmax(similarity_scores).item()\n",
    "            most_similar_topic = key_topic_list[max_similarity_index]\n",
    "            \n",
    "            # 存储结果\n",
    "            topic_match_dict[sentence] = most_similar_topic\n",
    "        \n",
    "        # 存储到新的列\n",
    "        df.at[index, 'cut_news_topic_match'] = str(topic_match_dict)\n",
    "    \n",
    "    # 保存结果到新的Excel文件\n",
    "    df.to_excel(output_file_path, index=False)\n",
    "    print(\"处理完成，结果已保存到\", output_file_path)"
   ]
  },
  {
   "cell_type": "code",
   "execution_count": 6,
   "metadata": {},
   "outputs": [
    {
     "name": "stdout",
     "output_type": "stream",
     "text": [
      "tensor([4.9582, 5.2650])\n"
     ]
    }
   ],
   "source": [
    "import torch\n",
    "from modelscope import AutoModelForSequenceClassification, AutoTokenizer\n",
    "\n",
    "tokenizer = AutoTokenizer.from_pretrained('/root/.cache/LLMS/hub/BAAI/bge-reranker-v2-m3')\n",
    "model = AutoModelForSequenceClassification.from_pretrained('/root/.cache/LLMS/hub/BAAI/bge-reranker-v2-m3')\n",
    "model.eval()\n",
    "\n",
    "pairs = [['what is panda?', 'panda is an animal'], ['what is panda?', 'The giant panda (Ailuropoda melanoleuca), sometimes called a panda bear or simply panda, is a bear species endemic to China.']]\n",
    "with torch.no_grad():\n",
    "    inputs = tokenizer(pairs, padding=True, truncation=True, return_tensors='pt', max_length=512)\n",
    "    scores = model(**inputs, return_dict=True).logits.view(-1, ).float()\n",
    "    print(scores)"
   ]
  },
  {
   "cell_type": "code",
   "execution_count": 12,
   "metadata": {},
   "outputs": [
    {
     "name": "stdout",
     "output_type": "stream",
     "text": [
      "FAISS version: 1.8.0\n",
      "FAISS GPU count: 0\n"
     ]
    }
   ],
   "source": [
    "import faiss\n",
    "print(f\"FAISS version: {faiss.__version__}\")\n",
    "print(f\"FAISS GPU count: {faiss.get_num_gpus()}\")"
   ]
  },
  {
   "cell_type": "code",
   "execution_count": 1,
   "metadata": {},
   "outputs": [
    {
     "name": "stderr",
     "output_type": "stream",
     "text": [
      "/root/miniconda3/envs/news_emo/lib/python3.8/site-packages/tqdm/auto.py:21: TqdmWarning: IProgress not found. Please update jupyter and ipywidgets. See https://ipywidgets.readthedocs.io/en/stable/user_install.html\n",
      "  from .autonotebook import tqdm as notebook_tqdm\n"
     ]
    },
    {
     "name": "stdout",
     "output_type": "stream",
     "text": [
      "tensor([-8.1838,  5.2650])\n"
     ]
    }
   ],
   "source": [
    "import torch\n",
    "from modelscope import AutoModelForSequenceClassification, AutoTokenizer\n",
    "\n",
    "tokenizer = AutoTokenizer.from_pretrained('/root/.cache/LLMS/hub/BAAI/bge-reranker-v2-m3')\n",
    "model = AutoModelForSequenceClassification.from_pretrained('/root/.cache/LLMS/hub/BAAI/bge-reranker-v2-m3')\n",
    "model.eval()\n",
    "\n",
    "pairs = [['what is panda?', 'hi'], ['what is panda?', 'The giant panda (Ailuropoda melanoleuca), sometimes called a panda bear or simply panda, is a bear species endemic to China.']]\n",
    "with torch.no_grad():\n",
    "    inputs = tokenizer(pairs, padding=True, truncation=True, return_tensors='pt', max_length=512)\n",
    "    scores = model(**inputs, return_dict=True).logits.view(-1, ).float()\n",
    "    print(scores)"
   ]
  },
  {
   "cell_type": "code",
   "execution_count": 18,
   "metadata": {},
   "outputs": [
    {
     "name": "stderr",
     "output_type": "stream",
     "text": [
      "Asking to truncate to max_length but no maximum length is provided and the model has no predefined maximum length. Default to no truncation.\n"
     ]
    },
    {
     "name": "stdout",
     "output_type": "stream",
     "text": [
      "['A股首例市值退市股即将摘牌', '9月1日晚间，*ST深天（000023，股价：1.72元', '总市值2.387亿元）公告称，公司股票已被深圳证券交易所决定终止上市，并将于2024年9月2日摘牌', '公告显示，6月27日至7月24日，*ST深天通过深交所交易系统连续二十个交易日的股票收盘市值均低于3亿元，触及深交所《股票上市规则(2023年8月修订)》第9.2.1条第一款第六项规定的股票终止上市情形', '根据深交所《股票上市规则(2024年修订)》第9.2.7条的规定以及深交所上市审核委员会的审议意见，深交所决定终止公司股票上市', '同时，根据相关规定，公司股票因触及交易类强制退市情形被作出终止上市决定，不进入退市整理期', '值得注意的是，*ST深天此番退市，为A股公司市值退市首例，创造A股市场新的历史', '根据目前仍在执行的规定，公司连续二十个交易日在深交所的股票收盘市值均低于3亿元，深交所终止其股票上市交易', '而根据深交所此前发布的《深圳证券交易所股票上市规则（2024年修订）》，如果A股公司“连续二十个交易日在本所的股票收盘总市值均低于5亿元”，就会被终止上市，关于市值退市情形的修订将自2024年10月30日起计算相关期限，意味着未来上市公司触及市值退市的概率会更高', '*ST深天是一家以商品混凝土为主业、房地产为支柱产业的上市公司，主要产业包括商品混凝土的生产和销售、房地产的开发及物业管理等', '2020年起，*ST深天业绩就持续呈现亏损局面', '2024年上半年，该公司亏损额已经超越营收规模，实现营业收入4083.54万元，同比下滑54.35%', '净利润亏损7032.84万元', '据*ST深天披露，2024年上半年，受地产行业需求下滑影响，深圳市和株洲市混凝土行业内生产能力的过剩更加严重，导致市场竞争更加激烈', '公司混凝土业务受市场需求不足、公司资金压力加大等不利因素的影响，企业运行艰难程度不断增加', '在房地产板块，*ST深天1984年起涉足房地产业，与其他公司合作开发了一批商住楼宇', '而后公司设立专门从事房地产开发与经营的工程开发公司，自成立以来，先后开发了数个住宅、工业、商业物业', '公司现有房地产业务主要以商用物业及普通住宅为主，业务区域主要集中在深圳、西安和连云港', '值得注意的是，8月30日，*ST深天还公告表示，公司决定起诉公司控股股东广东君浩股权投资控股有限公司和实际控制人林宏润', '2023年4月30日，*ST深天全资子公司深圳市天地顺铭企业管理有限公司（下称“天地顺铭”）与深圳市乾闳贸易有限公司签订了水泥矿粉砂石《购销合同》，2023年5月4日，天地顺铭以预付款形式将其渤海银行股份有限公司北京万寿路支行账户1.37亿元转入深圳市乾闳贸易有限公司', '以预付材料款的名义形成非经营性资金占用1.37亿元', '截至2023年8月28日，累计非经营性资金占用余额1.37亿元', '经公司实际控制人林宏润及控股股东确认，上述合同及资金往来没有实质性交易，控股股东广东君浩借此形成1.37亿元的往来款用于归还其债务，构成控股股东对深天地的非经营性资金占用', '截至公告披露日，*ST深天暂未收到实际控制人、控股股东明确、可执行的还款措施，暂无还款保障措施和具体的还款方案，广东君浩对上市公司的非经营性资金占用余额仍为1.37亿元', '每日经济新闻综合上市公司公告（文章来源：每日经济新闻）']\n",
      "tensor([[ 0.9482, -0.2045,  0.7639,  ...,  0.9904,  0.9658, -0.1404]])\n"
     ]
    },
    {
     "ename": "IndexError",
     "evalue": "list index out of range",
     "output_type": "error",
     "traceback": [
      "\u001b[0;31m---------------------------------------------------------------------------\u001b[0m",
      "\u001b[0;31mIndexError\u001b[0m                                Traceback (most recent call last)",
      "\u001b[0;32m/tmp/ipykernel_1276/930920755.py\u001b[0m in \u001b[0;36m<cell line: 1>\u001b[0;34m()\u001b[0m\n\u001b[1;32m     13\u001b[0m \u001b[0;34m\u001b[0m\u001b[0m\n\u001b[1;32m     14\u001b[0m     \u001b[0;31m# 调用主处理函数\u001b[0m\u001b[0;34m\u001b[0m\u001b[0;34m\u001b[0m\u001b[0;34m\u001b[0m\u001b[0m\n\u001b[0;32m---> 15\u001b[0;31m     \u001b[0mprocess_news_data\u001b[0m\u001b[0;34m(\u001b[0m\u001b[0mnews_file_path\u001b[0m\u001b[0;34m,\u001b[0m \u001b[0mlda_key_words_path\u001b[0m\u001b[0;34m,\u001b[0m \u001b[0mmodel_path\u001b[0m\u001b[0;34m,\u001b[0m \u001b[0moutput_file_path\u001b[0m\u001b[0;34m)\u001b[0m\u001b[0;34m\u001b[0m\u001b[0;34m\u001b[0m\u001b[0m\n\u001b[0m",
      "\u001b[0;32m/tmp/ipykernel_1276/1186798116.py\u001b[0m in \u001b[0;36mprocess_news_data\u001b[0;34m(news_file_path, lda_key_words_path, model_path, output_file_path)\u001b[0m\n\u001b[1;32m     49\u001b[0m             \u001b[0;31m# 找出相似度最高的主题\u001b[0m\u001b[0;34m\u001b[0m\u001b[0;34m\u001b[0m\u001b[0;34m\u001b[0m\u001b[0m\n\u001b[1;32m     50\u001b[0m             \u001b[0mmax_similarity_index\u001b[0m \u001b[0;34m=\u001b[0m \u001b[0mtorch\u001b[0m\u001b[0;34m.\u001b[0m\u001b[0margmax\u001b[0m\u001b[0;34m(\u001b[0m\u001b[0msimilarity_scores\u001b[0m\u001b[0;34m)\u001b[0m\u001b[0;34m.\u001b[0m\u001b[0mitem\u001b[0m\u001b[0;34m(\u001b[0m\u001b[0;34m)\u001b[0m\u001b[0;34m\u001b[0m\u001b[0;34m\u001b[0m\u001b[0m\n\u001b[0;32m---> 51\u001b[0;31m             \u001b[0mmost_similar_topic\u001b[0m \u001b[0;34m=\u001b[0m \u001b[0mkey_topic_list\u001b[0m\u001b[0;34m[\u001b[0m\u001b[0mmax_similarity_index\u001b[0m\u001b[0;34m]\u001b[0m\u001b[0;34m\u001b[0m\u001b[0;34m\u001b[0m\u001b[0m\n\u001b[0m\u001b[1;32m     52\u001b[0m \u001b[0;34m\u001b[0m\u001b[0m\n\u001b[1;32m     53\u001b[0m             \u001b[0;31m# 存储结果\u001b[0m\u001b[0;34m\u001b[0m\u001b[0;34m\u001b[0m\u001b[0;34m\u001b[0m\u001b[0m\n",
      "\u001b[0;31mIndexError\u001b[0m: list index out of range"
     ]
    }
   ],
   "source": [
    "if __name__ == \"__main__\":\n",
    "    # 模型路径\n",
    "    model_path = '/root/.cache/LLMS/hub/BAAI/bge-large-zh-v1___5'  # BGE-large-zh-v1.5模型\n",
    "    \n",
    "    # 新闻文本文件路径\n",
    "    news_file_path = '/root/LLM_news_emo_analyze/DATA/news_test_data.xlsx'\n",
    "    \n",
    "    # 主题提示文件路径\n",
    "    lda_key_words_path = '~/LLM_news_emo_analyze/DATA/lda_key_words.xlsx'\n",
    "    \n",
    "    # 输出文件路径\n",
    "    output_file_path = '~/LLM_news_emo_analyze/DATA/news_data_with_topics.xlsx'\n",
    "    \n",
    "    # 调用主处理函数\n",
    "    process_news_data(news_file_path, lda_key_words_path, model_path, output_file_path)"
   ]
  },
  {
   "cell_type": "code",
   "execution_count": 18,
   "metadata": {},
   "outputs": [
    {
     "name": "stderr",
     "output_type": "stream",
     "text": [
      "Asking to truncate to max_length but no maximum length is provided and the model has no predefined maximum length. Default to no truncation.\n"
     ]
    },
    {
     "name": "stdout",
     "output_type": "stream",
     "text": [
      "与news_prompt最相似的提示是: 新闻的主题是生产投资，关键词是制造、设备、研发、制造业、工业、生产线、机械、材料、设计、国外、钢铁、产能\n",
      "相似度值: 0.39552390575408936\n"
     ]
    }
   ],
   "source": [
    "if __name__ == \"__main__\":\n",
    "    lda_key_words_path = '~/LLM_news_emo_analyze/DATA/lda_key_words.xlsx'\n",
    "    news_prompt = \"证券时报网讯，中信建投研报指出，2024年上半年，根据样本数据，医疗器械板块收入同比增长1%，扣非归母净利润同比增长3%。\"\n",
    "    key_topic_lisy = get_theme_prompts(lda_key_words_path)\n",
    "    model_path = '/root/.cache/LLMS/hub/BAAI/bge-large-zh-v1___5'  # BGE-large-zh-v1.5模型\n",
    "    tokenizer, model = load_model(model_path)\n",
    "\n",
    "    # 获取所有提示的嵌入\n",
    "    all_prompts = [news_prompt] + key_topic_lisy\n",
    "    embeddings = get_embeddings(all_prompts, tokenizer, model)\n",
    "\n",
    "    # 计算prompt_1与其他提示的相似度\n",
    "    similarity_scores = calculate_cosine_similarity(embeddings[0], embeddings[1:])\n",
    "\n",
    "    # 找出相似度最高的提示及其相似度值\n",
    "    max_similarity_index = torch.argmax(similarity_scores).item()\n",
    "    max_similarity_score = similarity_scores[max_similarity_index].item()\n",
    "    most_similar_prompt = key_topic_lisy[max_similarity_index]\n",
    "\n",
    "    print(\"与news_prompt最相似的提示是:\", most_similar_prompt)\n",
    "    print(\"相似度值:\", max_similarity_score)"
   ]
  },
  {
   "cell_type": "code",
   "execution_count": 21,
   "metadata": {},
   "outputs": [
    {
     "data": {
      "text/html": [
       "<div>\n",
       "<style scoped>\n",
       "    .dataframe tbody tr th:only-of-type {\n",
       "        vertical-align: middle;\n",
       "    }\n",
       "\n",
       "    .dataframe tbody tr th {\n",
       "        vertical-align: top;\n",
       "    }\n",
       "\n",
       "    .dataframe thead th {\n",
       "        text-align: right;\n",
       "    }\n",
       "</style>\n",
       "<table border=\"1\" class=\"dataframe\">\n",
       "  <thead>\n",
       "    <tr style=\"text-align: right;\">\n",
       "      <th></th>\n",
       "      <th>NewsContent_cut</th>\n",
       "      <th>cut_news_topic_match</th>\n",
       "    </tr>\n",
       "  </thead>\n",
       "  <tbody>\n",
       "    <tr>\n",
       "      <th>0</th>\n",
       "      <td>{'news_prompt1': 'A股首例市值退市股即将摘牌', 'news_prompt...</td>\n",
       "      <td>{'A股首例市值退市股即将摘牌': {'topic': '新闻的主题是金融，关键词是A股、股...</td>\n",
       "    </tr>\n",
       "    <tr>\n",
       "      <th>1</th>\n",
       "      <td>{'news_prompt1': '又见A股上市公司实控人被留置，涉事公司分别是半导体设备供...</td>\n",
       "      <td>{'又见A股上市公司实控人被留置，涉事公司分别是半导体设备供应商耐科装备（688419.SH...</td>\n",
       "    </tr>\n",
       "    <tr>\n",
       "      <th>2</th>\n",
       "      <td>{'news_prompt1': '摘要 \\u3000\\u3000国常会：研究推动保险业高质...</td>\n",
       "      <td>{'摘要 \\u3000\\u3000国常会：研究推动保险业高质量发展的若干意见': {'top...</td>\n",
       "    </tr>\n",
       "    <tr>\n",
       "      <th>3</th>\n",
       "      <td>{'news_prompt1': '据目前安排，若无变化本周（9月2日到6日）共有3只新股申...</td>\n",
       "      <td>{'据目前安排，若无变化本周（9月2日到6日）共有3只新股申购': {'topic': '新...</td>\n",
       "    </tr>\n",
       "    <tr>\n",
       "      <th>4</th>\n",
       "      <td>{'news_prompt1': '证券时报网讯，中信建投研报指出，2024年上半年，根据样...</td>\n",
       "      <td>{'证券时报网讯，中信建投研报指出，2024年上半年，根据样本数据，医疗器械板块收入同比增长...</td>\n",
       "    </tr>\n",
       "    <tr>\n",
       "      <th>5</th>\n",
       "      <td>{'news_prompt1': '证券时报网讯，证券时报·数据宝统计显示，社保基金最新出现...</td>\n",
       "      <td>{'证券时报网讯，证券时报·数据宝统计显示，社保基金最新出现在605只个股前十大流通股东名单...</td>\n",
       "    </tr>\n",
       "    <tr>\n",
       "      <th>6</th>\n",
       "      <td>{'news_prompt1': '证券时报网讯，中信证券研报指出，2024年以来，家电内需...</td>\n",
       "      <td>{'证券时报网讯，中信证券研报指出，2024年以来，家电内需渐入“地产竣工周期负反馈”': ...</td>\n",
       "    </tr>\n",
       "    <tr>\n",
       "      <th>7</th>\n",
       "      <td>{'news_prompt1': '证券时报网讯，中信建投研报指出，经历数月回调后，9月市场...</td>\n",
       "      <td>{'证券时报网讯，中信建投研报指出，经历数月回调后，9月市场有望边际改善': {'topic...</td>\n",
       "    </tr>\n",
       "    <tr>\n",
       "      <th>8</th>\n",
       "      <td>{'news_prompt1': '证券时报网讯，证券时报·数据宝统计显示，社保基金最新出现...</td>\n",
       "      <td>{'证券时报网讯，证券时报·数据宝统计显示，社保基金最新出现在66只科创板股前十大流通股东名...</td>\n",
       "    </tr>\n",
       "    <tr>\n",
       "      <th>9</th>\n",
       "      <td>{'news_prompt1': '日前，美国证券交易委员会（SEC）披露了一则指控', '...</td>\n",
       "      <td>{'日前，美国证券交易委员会（SEC）披露了一则指控': {'topic': '新闻的主题是...</td>\n",
       "    </tr>\n",
       "  </tbody>\n",
       "</table>\n",
       "</div>"
      ],
      "text/plain": [
       "                                     NewsContent_cut  \\\n",
       "0  {'news_prompt1': 'A股首例市值退市股即将摘牌', 'news_prompt...   \n",
       "1  {'news_prompt1': '又见A股上市公司实控人被留置，涉事公司分别是半导体设备供...   \n",
       "2  {'news_prompt1': '摘要 \\u3000\\u3000国常会：研究推动保险业高质...   \n",
       "3  {'news_prompt1': '据目前安排，若无变化本周（9月2日到6日）共有3只新股申...   \n",
       "4  {'news_prompt1': '证券时报网讯，中信建投研报指出，2024年上半年，根据样...   \n",
       "5  {'news_prompt1': '证券时报网讯，证券时报·数据宝统计显示，社保基金最新出现...   \n",
       "6  {'news_prompt1': '证券时报网讯，中信证券研报指出，2024年以来，家电内需...   \n",
       "7  {'news_prompt1': '证券时报网讯，中信建投研报指出，经历数月回调后，9月市场...   \n",
       "8  {'news_prompt1': '证券时报网讯，证券时报·数据宝统计显示，社保基金最新出现...   \n",
       "9  {'news_prompt1': '日前，美国证券交易委员会（SEC）披露了一则指控', '...   \n",
       "\n",
       "                                cut_news_topic_match  \n",
       "0  {'A股首例市值退市股即将摘牌': {'topic': '新闻的主题是金融，关键词是A股、股...  \n",
       "1  {'又见A股上市公司实控人被留置，涉事公司分别是半导体设备供应商耐科装备（688419.SH...  \n",
       "2  {'摘要 \\u3000\\u3000国常会：研究推动保险业高质量发展的若干意见': {'top...  \n",
       "3  {'据目前安排，若无变化本周（9月2日到6日）共有3只新股申购': {'topic': '新...  \n",
       "4  {'证券时报网讯，中信建投研报指出，2024年上半年，根据样本数据，医疗器械板块收入同比增长...  \n",
       "5  {'证券时报网讯，证券时报·数据宝统计显示，社保基金最新出现在605只个股前十大流通股东名单...  \n",
       "6  {'证券时报网讯，中信证券研报指出，2024年以来，家电内需渐入“地产竣工周期负反馈”': ...  \n",
       "7  {'证券时报网讯，中信建投研报指出，经历数月回调后，9月市场有望边际改善': {'topic...  \n",
       "8  {'证券时报网讯，证券时报·数据宝统计显示，社保基金最新出现在66只科创板股前十大流通股东名...  \n",
       "9  {'日前，美国证券交易委员会（SEC）披露了一则指控': {'topic': '新闻的主题是...  "
      ]
     },
     "execution_count": 21,
     "metadata": {},
     "output_type": "execute_result"
    }
   ],
   "source": [
    "DATA = pd.read_excel('/root/LLM_news_emo_analyze/DATA/news_data_with_topics.xlsx')\n",
    "DATA[['NewsContent_cut','cut_news_topic_match']]"
   ]
  },
  {
   "cell_type": "code",
   "execution_count": null,
   "metadata": {},
   "outputs": [],
   "source": [
    "lda_key_words_path = '~/LLM_news_emo_analyze/DATA/lda_key_words.xlsx'\n",
    "def find_most_similar_prompt(input_prompt,lda_key_words_path):\n",
    "    theme_prompts = get_theme_prompts(lda_key_words_path)\n",
    "    max_similarity = -1\n",
    "    most_similar_prompt = None\n",
    "    for theme_prompt in theme_prompts:\n",
    "        embeddings = get_embeddings([input_prompt, theme_prompt], tokenizer, model)\n",
    "        similarity = calculate_cosine_similarity(embeddings)\n",
    "        \n",
    "        if similarity > max_similarity:\n",
    "            max_similarity = similarity\n",
    "            most_similar_prompt = theme_prompt\n",
    "\n",
    "return most_similar_prompt, max_similarity"
   ]
  },
  {
   "cell_type": "code",
   "execution_count": null,
   "metadata": {},
   "outputs": [],
   "source": [
    "    for theme_prompt in theme_prompts:\n",
    "        embeddings = get_embeddings([input_prompt, theme_prompt], tokenizer, model)\n",
    "        similarity = calculate_cosine_similarity(embeddings)\n",
    "        \n",
    "        if similarity > max_similarity:\n",
    "            max_similarity = similarity\n",
    "            most_similar_prompt = theme_prompt\n",
    "    \n",
    "    return most_similar_prompt, max_similarity"
   ]
  },
  {
   "cell_type": "code",
   "execution_count": 9,
   "metadata": {},
   "outputs": [],
   "source": [
    "lda_key_words_path = '~/LLM_news_emo_analyze/DATA/lda_key_words.xlsx'\n"
   ]
  },
  {
   "cell_type": "code",
   "execution_count": null,
   "metadata": {},
   "outputs": [],
   "source": [
    "if __name__ == \"__main__\":\n",
    "    prompt_1 = \"这是第一个自定义的提示\"\n",
    "    prompt_2 = \"这是第二个自定义的提示\"\n",
    "    model_path = '/root/.cache/LLMS/hub/BAAI/bge-large-zh-v1___5' # BG-large-zh-v1.5模型\n",
    "    \n",
    "    tokenizer, model = load_model(model_path)\n",
    "    embeddings = get_embeddings([prompt_1, prompt_2], tokenizer, model)\n",
    "    \n",
    "    similarity = calculate_cosine_similarity(embeddings)\n",
    "    print(\"余弦相似度:\", similarity)"
   ]
  },
  {
   "cell_type": "code",
   "execution_count": null,
   "metadata": {},
   "outputs": [],
   "source": []
  }
 ],
 "metadata": {
  "kernelspec": {
   "display_name": "faiss_env",
   "language": "python",
   "name": "python3"
  },
  "language_info": {
   "codemirror_mode": {
    "name": "ipython",
    "version": 3
   },
   "file_extension": ".py",
   "mimetype": "text/x-python",
   "name": "python",
   "nbconvert_exporter": "python",
   "pygments_lexer": "ipython3",
   "version": "3.8.20"
  }
 },
 "nbformat": 4,
 "nbformat_minor": 2
}
