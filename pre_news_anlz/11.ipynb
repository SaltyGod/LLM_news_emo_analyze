{
 "cells": [
  {
   "cell_type": "code",
   "execution_count": 14,
   "metadata": {},
   "outputs": [
    {
     "name": "stderr",
     "output_type": "stream",
     "text": [
      "/root/miniconda3/envs/news_emo/lib/python3.8/site-packages/tqdm/auto.py:21: TqdmWarning: IProgress not found. Please update jupyter and ipywidgets. See https://ipywidgets.readthedocs.io/en/stable/user_install.html\n",
      "  from .autonotebook import tqdm as notebook_tqdm\n"
     ]
    }
   ],
   "source": [
    "from transformers import AutoTokenizer, AutoModel\n",
    "import torch\n",
    "import torch.nn.functional as F\n",
    "\n",
    "def load_model(model_path):\n",
    "    \"\"\"\n",
    "    加载模型和分词器。\n",
    "\n",
    "    参数:\n",
    "    model_path (str): 模型的路径。\n",
    "\n",
    "    返回:\n",
    "    tokenizer: 加载的分词器。\n",
    "    model: 加载的模型。\n",
    "    \"\"\"\n",
    "    tokenizer = AutoTokenizer.from_pretrained(model_path)\n",
    "    model = AutoModel.from_pretrained(model_path)\n",
    "    model.eval()\n",
    "    return tokenizer, model\n",
    "\n",
    "def get_embeddings(prompts, tokenizer, model):\n",
    "    \"\"\"\n",
    "    计算给定提示的嵌入表示。\n",
    "\n",
    "    参数:\n",
    "    prompts (list): 自定义提示的列表。\n",
    "    tokenizer: 加载的分词器。\n",
    "    model: 加载的模型。\n",
    "\n",
    "    返回:\n",
    "    torch.Tensor: 嵌入表示的张量。\n",
    "    \"\"\"\n",
    "    # Tokenize custom prompts\n",
    "    encoded_input = tokenizer(prompts, padding=True, truncation=True, return_tensors='pt')\n",
    "\n",
    "    # Compute token embeddings\n",
    "    with torch.no_grad():\n",
    "        model_output = model(**encoded_input)\n",
    "        # Perform pooling. In this case, cls pooling.\n",
    "        sentence_embeddings = model_output[0][:, 0]\n",
    "\n",
    "    # Normalize embeddings\n",
    "    sentence_embeddings = F.normalize(sentence_embeddings, p=2, dim=1)\n",
    "\n",
    "    return sentence_embeddings\n",
    "\n",
    "def calculate_cosine_similarity(embedding_1, embeddings):\n",
    "    \"\"\"\n",
    "    计算一个嵌入与其他多个嵌入的余弦相似度。\n",
    "\n",
    "    参数:\n",
    "    embedding_1 (torch.Tensor): 第一个嵌入表示。\n",
    "    embeddings (torch.Tensor): 其他嵌入表示的张量。\n",
    "\n",
    "    返回:\n",
    "    torch.Tensor: 相似度列表。\n",
    "    \"\"\"\n",
    "    cosine_similarities = F.cosine_similarity(embedding_1.unsqueeze(0), embeddings)\n",
    "    return cosine_similarities"
   ]
  },
  {
   "cell_type": "code",
   "execution_count": 11,
   "metadata": {},
   "outputs": [],
   "source": [
    "import pandas as pd\n",
    "def get_theme_prompts(lda_key_words_path):\n",
    "    file_path = lda_key_words_path\n",
    "    df = pd.read_excel(file_path)\n",
    "    \n",
    "    prompts = []\n",
    "    \n",
    "    for index, row in df.iterrows():\n",
    "        theme_category = row['主题类别']\n",
    "        keywords = row.dropna()[1:].tolist()\n",
    "        prompt = f\"新闻的主题是{theme_category}，关键词是{'、'.join(keywords)}\"\n",
    "        prompts.append(prompt)\n",
    "    \n",
    "\n",
    "    # 返回6个prompt\n",
    "    return prompts\n"
   ]
  },
  {
   "cell_type": "code",
   "execution_count": 18,
   "metadata": {},
   "outputs": [
    {
     "name": "stderr",
     "output_type": "stream",
     "text": [
      "Asking to truncate to max_length but no maximum length is provided and the model has no predefined maximum length. Default to no truncation.\n"
     ]
    },
    {
     "name": "stdout",
     "output_type": "stream",
     "text": [
      "与news_prompt最相似的提示是: 新闻的主题是生产投资，关键词是制造、设备、研发、制造业、工业、生产线、机械、材料、设计、国外、钢铁、产能\n",
      "相似度值: 0.39552390575408936\n"
     ]
    }
   ],
   "source": [
    "if __name__ == \"__main__\":\n",
    "    lda_key_words_path = '~/LLM_news_emo_analyze/DATA/lda_key_words.xlsx'\n",
    "    news_prompt = \"证券时报网讯，中信建投研报指出，2024年上半年，根据样本数据，医疗器械板块收入同比增长1%，扣非归母净利润同比增长3%。\"\n",
    "    key_topic_lisy = get_theme_prompts(lda_key_words_path)\n",
    "    model_path = '/root/.cache/LLMS/hub/BAAI/bge-large-zh-v1___5'  # BGE-large-zh-v1.5模型\n",
    "    tokenizer, model = load_model(model_path)\n",
    "\n",
    "    # 获取所有提示的嵌入\n",
    "    all_prompts = [news_prompt] + key_topic_lisy\n",
    "    embeddings = get_embeddings(all_prompts, tokenizer, model)\n",
    "\n",
    "    # 计算prompt_1与其他提示的相似度\n",
    "    similarity_scores = calculate_cosine_similarity(embeddings[0], embeddings[1:])\n",
    "\n",
    "    # 找出相似度最高的提示及其相似度值\n",
    "    max_similarity_index = torch.argmax(similarity_scores).item()\n",
    "    max_similarity_score = similarity_scores[max_similarity_index].item()\n",
    "    most_similar_prompt = key_topic_lisy[max_similarity_index]\n",
    "\n",
    "    print(\"与news_prompt最相似的提示是:\", most_similar_prompt)\n",
    "    print(\"相似度值:\", max_similarity_score)"
   ]
  },
  {
   "cell_type": "code",
   "execution_count": null,
   "metadata": {},
   "outputs": [],
   "source": [
    "lda_key_words_path = '~/LLM_news_emo_analyze/DATA/lda_key_words.xlsx'\n",
    "def find_most_similar_prompt(input_prompt,lda_key_words_path):\n",
    "    theme_prompts = get_theme_prompts(lda_key_words_path)\n",
    "    max_similarity = -1\n",
    "    most_similar_prompt = None\n",
    "    for theme_prompt in theme_prompts:\n",
    "        embeddings = get_embeddings([input_prompt, theme_prompt], tokenizer, model)\n",
    "        similarity = calculate_cosine_similarity(embeddings)\n",
    "        \n",
    "        if similarity > max_similarity:\n",
    "            max_similarity = similarity\n",
    "            most_similar_prompt = theme_prompt\n",
    "\n",
    "return most_similar_prompt, max_similarity"
   ]
  },
  {
   "cell_type": "code",
   "execution_count": null,
   "metadata": {},
   "outputs": [],
   "source": [
    "    for theme_prompt in theme_prompts:\n",
    "        embeddings = get_embeddings([input_prompt, theme_prompt], tokenizer, model)\n",
    "        similarity = calculate_cosine_similarity(embeddings)\n",
    "        \n",
    "        if similarity > max_similarity:\n",
    "            max_similarity = similarity\n",
    "            most_similar_prompt = theme_prompt\n",
    "    \n",
    "    return most_similar_prompt, max_similarity"
   ]
  },
  {
   "cell_type": "code",
   "execution_count": 9,
   "metadata": {},
   "outputs": [],
   "source": [
    "lda_key_words_path = '~/LLM_news_emo_analyze/DATA/lda_key_words.xlsx'\n"
   ]
  },
  {
   "cell_type": "code",
   "execution_count": null,
   "metadata": {},
   "outputs": [],
   "source": [
    "if __name__ == \"__main__\":\n",
    "    prompt_1 = \"这是第一个自定义的提示\"\n",
    "    prompt_2 = \"这是第二个自定义的提示\"\n",
    "    model_path = '/root/.cache/LLMS/hub/BAAI/bge-large-zh-v1___5' # BG-large-zh-v1.5模型\n",
    "    \n",
    "    tokenizer, model = load_model(model_path)\n",
    "    embeddings = get_embeddings([prompt_1, prompt_2], tokenizer, model)\n",
    "    \n",
    "    similarity = calculate_cosine_similarity(embeddings)\n",
    "    print(\"余弦相似度:\", similarity)"
   ]
  },
  {
   "cell_type": "code",
   "execution_count": null,
   "metadata": {},
   "outputs": [],
   "source": []
  }
 ],
 "metadata": {
  "kernelspec": {
   "display_name": "base",
   "language": "python",
   "name": "python3"
  },
  "language_info": {
   "codemirror_mode": {
    "name": "ipython",
    "version": 3
   },
   "file_extension": ".py",
   "mimetype": "text/x-python",
   "name": "python",
   "nbconvert_exporter": "python",
   "pygments_lexer": "ipython3",
   "version": "3.8.20"
  }
 },
 "nbformat": 4,
 "nbformat_minor": 2
}
